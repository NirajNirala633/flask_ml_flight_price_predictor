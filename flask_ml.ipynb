{
 "cells": [
  {
   "cell_type": "markdown",
   "id": "1e9a235e-8522-45f9-b6dc-8b392c826361",
   "metadata": {},
   "source": [
    "## 1. Importing Libraries"
   ]
  },
  {
   "cell_type": "code",
   "execution_count": null,
   "id": "003df343-13e3-4be6-9d14-6c7d6feebc95",
   "metadata": {},
   "outputs": [],
   "source": [
    "import pandas as pd\n",
    "import numpy as np\n",
    "\n",
    "import sklearn\n",
    "from sklearn.impute import SimpleImputer\n",
    "from sklearn.preprocessing import StandardScaler, OneHotEncoder\n",
    "from sklearn.pipeline import Pipeline\n",
    "from sklearn.compose import ColumnTransformer\n",
    "from sklearn.linear_model import LinearRegression\n",
    "from sklearn.svm import SVR\n",
    "from sklearn.ensemble import RandomForestRegressor\n",
    "from sklearn.metrics import r2_score\n",
    "from sklearn.model_selection import learning_curve\n",
    "\n",
    "from feature_engine.datetime import DatetimeFeatures\n",
    "\n",
    "from xgboost import XGBRegressor\n",
    "\n",
    "\n",
    "import joblib\n",
    "import matplotlib.pyplot as plt"
   ]
  },
  {
   "cell_type": "markdown",
   "id": "2eba0717-54e0-4a2a-9bd7-c27e214a0f72",
   "metadata": {},
   "source": [
    "## 2. Display Settings"
   ]
  },
  {
   "cell_type": "code",
   "execution_count": null,
   "id": "e9eda7ee-719a-4056-a666-9887b7ae78f1",
   "metadata": {},
   "outputs": [],
   "source": [
    "pd.set_option(\"display.max_columns\", None)"
   ]
  },
  {
   "cell_type": "code",
   "execution_count": null,
   "id": "b94cd985-37f7-4dd5-af48-06068f4ea4ba",
   "metadata": {},
   "outputs": [],
   "source": [
    "sklearn.set_config(transform_output=\"default\")"
   ]
  },
  {
   "cell_type": "markdown",
   "id": "5540e28f-2025-418f-b90b-48006690ba2c",
   "metadata": {},
   "source": [
    "## 3. Getting the Data"
   ]
  },
  {
   "cell_type": "code",
   "execution_count": null,
   "id": "3a262d45-0e75-480a-988e-19fa67035dd7",
   "metadata": {},
   "outputs": [],
   "source": [
    "train_df = pd.read_csv(\"data/train.csv\")\n",
    "val_df = pd.read_csv(\"data/val.csv\")\n",
    "test_df = pd.read_csv(\"data/test.csv\")"
   ]
  },
  {
   "cell_type": "code",
   "execution_count": null,
   "id": "cb36b412-6945-47c6-8aa0-87773c8b4d1f",
   "metadata": {},
   "outputs": [],
   "source": [
    "train_df"
   ]
  },
  {
   "cell_type": "markdown",
   "id": "2db1217f-276e-488c-a619-6e4f7e93fe4b",
   "metadata": {},
   "source": [
    "## 4. Split the Data"
   ]
  },
  {
   "cell_type": "code",
   "execution_count": null,
   "id": "5b38656f-d727-416f-9546-732e29fadecb",
   "metadata": {},
   "outputs": [],
   "source": [
    "def split_data(data):\n",
    "    X = data.drop(columns=\"price\")\n",
    "    y = data.price.copy()\n",
    "    return(X, y)"
   ]
  },
  {
   "cell_type": "code",
   "execution_count": null,
   "id": "237b989c-79f7-461d-bb53-657965c3cdf8",
   "metadata": {},
   "outputs": [],
   "source": [
    "X_train, y_train = split_data(train_df)"
   ]
  },
  {
   "cell_type": "code",
   "execution_count": null,
   "id": "57954b15-9582-4be9-af0d-83931366d3f0",
   "metadata": {},
   "outputs": [],
   "source": [
    "X_train"
   ]
  },
  {
   "cell_type": "code",
   "execution_count": null,
   "id": "e94b9720-1b62-4cec-85b6-65ffbd61d973",
   "metadata": {},
   "outputs": [],
   "source": [
    "y_train"
   ]
  },
  {
   "cell_type": "code",
   "execution_count": null,
   "id": "af4309df-13b4-4a71-ad2b-389c82aa8bd4",
   "metadata": {},
   "outputs": [],
   "source": [
    "X_val, y_val = split_data(val_df)\n",
    "\n",
    "print(X_val.shape, y_val.shape)"
   ]
  },
  {
   "cell_type": "code",
   "execution_count": null,
   "id": "d2f8fbd8-3bb0-4261-b975-b2af078b4ed5",
   "metadata": {},
   "outputs": [],
   "source": [
    "X_test, y_test = split_data(test_df)\n",
    "\n",
    "print(X_test.shape, y_test.shape)"
   ]
  },
  {
   "cell_type": "markdown",
   "id": "89afeac7-1b62-4dd8-a864-825e03dbe2f6",
   "metadata": {},
   "source": [
    "## 4.1 Meta-Info"
   ]
  },
  {
   "cell_type": "code",
   "execution_count": null,
   "id": "0ab171cb-27be-4393-be28-579a153c9455",
   "metadata": {},
   "outputs": [],
   "source": [
    "X_train.info()"
   ]
  },
  {
   "cell_type": "markdown",
   "id": "97e70ae5-9f30-4eb2-80c8-1caa04e38cf3",
   "metadata": {},
   "source": [
    "## 5. Data Preprocessing"
   ]
  },
  {
   "cell_type": "code",
   "execution_count": null,
   "id": "9354eab1-c6ee-431a-a7ee-5543901f5cac",
   "metadata": {},
   "outputs": [],
   "source": [
    "dt_cols = [\"date_of_journey\", \"dep_time\", \"arrival_time\"]\n",
    "\n",
    "num_cols = [\"duration\", \"total_stops\"]\n",
    "\n",
    "cat_cols = [col for col in X_train.columns if (col not in dt_cols) and (col not in num_cols)]"
   ]
  },
  {
   "cell_type": "code",
   "execution_count": null,
   "id": "10972047-a303-444d-a10a-952bea67bc3d",
   "metadata": {},
   "outputs": [],
   "source": [
    "dt_cols"
   ]
  },
  {
   "cell_type": "code",
   "execution_count": null,
   "id": "6012e6e1-4fb0-4e95-b846-206a44a77fff",
   "metadata": {},
   "outputs": [],
   "source": [
    "num_cols"
   ]
  },
  {
   "cell_type": "code",
   "execution_count": null,
   "id": "166680f0-bcde-44b2-8ce6-7a9deb98a60f",
   "metadata": {},
   "outputs": [],
   "source": [
    "cat_cols"
   ]
  },
  {
   "cell_type": "code",
   "execution_count": null,
   "id": "a4164e87-167b-4ac9-ac9e-53297447864a",
   "metadata": {},
   "outputs": [],
   "source": [
    "num_transformer = Pipeline(steps=[\n",
    "    (\"imputer\", SimpleImputer(strategy=\"median\")),\n",
    "    (\"scaler\", StandardScaler())\n",
    "])\n",
    "\n",
    "cat_transformer = Pipeline(steps=[\n",
    "    (\"imputer\", SimpleImputer(strategy=\"most_frequent\")),\n",
    "    (\"encoder\", OneHotEncoder(sparse_output=False, handle_unknown=\"ignore\"))\n",
    "])\n",
    "\n",
    "doj_transformer = Pipeline(steps=[\n",
    "    (\"imputer\", SimpleImputer(strategy=\"most_frequent\")),\n",
    "    (\"extractor\", DatetimeFeatures(features_to_extract=[\"month\", \"week\", \"day_of_week\", \"day_of_month\"], format=\"mixed\")),\n",
    "    (\"scalar\", StandardScaler())\n",
    "])\n",
    "\n",
    "time_transformer = Pipeline(steps=[\n",
    "    (\"imputer\", SimpleImputer(strategy=\"most_frequent\")),\n",
    "    (\"extractor\", DatetimeFeatures(features_to_extract=[\"hour\", \"minute\"], format=\"mixed\")),\n",
    "    (\"scalar\", StandardScaler())\n",
    "])"
   ]
  },
  {
   "cell_type": "code",
   "execution_count": null,
   "id": "2291cf68-8dfc-44a9-aae4-60178c904154",
   "metadata": {},
   "outputs": [],
   "source": [
    "preprocessor = ColumnTransformer(transformers=[\n",
    "    (\"num\", num_transformer, num_cols),\n",
    "    (\"cat\", cat_transformer, cat_cols),\n",
    "    (\"doj\", doj_transformer, [\"date_of_journey\"]),\n",
    "    (\"time\", time_transformer, [\"dep_time\", \"arrival_time\"])\n",
    "])"
   ]
  },
  {
   "cell_type": "code",
   "execution_count": null,
   "id": "e0fb6d80-5317-49d1-a6ba-52c686682f96",
   "metadata": {},
   "outputs": [],
   "source": [
    "preprocessor.fit_transform(X_train)"
   ]
  },
  {
   "cell_type": "code",
   "execution_count": null,
   "id": "0b72b062-c97f-4b46-bbc3-1e649a96cda6",
   "metadata": {},
   "outputs": [],
   "source": [
    "preprocessor.fit_transform(X_train).shape"
   ]
  },
  {
   "cell_type": "markdown",
   "id": "5dc7f298-87f9-467c-8cd2-6c5fd7f3b395",
   "metadata": {},
   "source": [
    "## 5. Model Selection"
   ]
  },
  {
   "cell_type": "code",
   "execution_count": null,
   "id": "2bf34cfe-4c40-4d37-a2db-2f14ab101504",
   "metadata": {},
   "outputs": [],
   "source": [
    "algorithms = {\n",
    "    \"Linear Regression\": LinearRegression(),\n",
    "    \"Support Vector Machine\": SVR(),\n",
    "    \"Random Forest\": RandomForestRegressor(n_estimators=10),\n",
    "    \"XG Boost\": XGBRegressor(n_estimators=10)\n",
    "}"
   ]
  },
  {
   "cell_type": "code",
   "execution_count": null,
   "id": "1ca4cbdc-a15d-4d4b-817f-f1fcf732e7f0",
   "metadata": {},
   "outputs": [],
   "source": [
    "data = pd.concat([train_df, val_df], axis=0)\n",
    "\n",
    "X_data, y_data = split_data(data)\n",
    "print(X_data.shape, y_data.shape)"
   ]
  },
  {
   "cell_type": "code",
   "execution_count": null,
   "id": "978a7aea-cb75-4be0-9118-7fcbf0a32a3c",
   "metadata": {},
   "outputs": [],
   "source": [
    "def plot_curves(sizes, mean_scores, std_scores, label, ax):\n",
    "    ax.plot(\n",
    "        sizes,\n",
    "        mean_scores,\n",
    "        marker=\"o\",\n",
    "        label=label\n",
    "    )\n",
    "\n",
    "    ax.fill_between(\n",
    "        x=sizes,\n",
    "        y1=mean_scores - std_scores,\n",
    "        y2=mean_scores + std_scores,\n",
    "        alpha=0.5\n",
    "    )"
   ]
  },
  {
   "cell_type": "code",
   "execution_count": null,
   "id": "d1f66e6b-d54a-436b-bd26-5d4ea7ebf7cb",
   "metadata": {},
   "outputs": [],
   "source": [
    "def plot_learning_curves(name, algorithm, figsize=(12, 4)):\n",
    "    model = Pipeline(steps=[\n",
    "        (\"pre\", preprocessor),\n",
    "        (\"alg\", algorithm)\n",
    "    ])\n",
    "\n",
    "    train_sizes, train_scores, test_scores = learning_curve(\n",
    "        estimator=model,\n",
    "        X=X_data,\n",
    "        y=y_data,\n",
    "        cv=3,\n",
    "        scoring=\"r2\",\n",
    "        n_jobs=-1,\n",
    "        random_state=42\n",
    "    )\n",
    "\n",
    "    mean_train_scores = np.mean(train_scores, axis=1)\n",
    "    std_train_scores = np.std(train_scores, axis=1)\n",
    "    train_score = f\"{mean_train_scores[-1]:.2f} +/- {std_train_scores[-1]:.2f}\"\n",
    "\n",
    "    mean_test_scores = np.mean(test_scores, axis=1)\n",
    "    std_test_scores = np.std(test_scores, axis=1)\n",
    "    test_score = f\"{mean_test_scores[-1]:.2f} +/- {std_test_scores[-1]:.2f}\"\n",
    "\n",
    "    fig, ax = plt.subplots(figsize=figsize)\n",
    "\n",
    "    # training curve\n",
    "    plot_curves(\n",
    "        train_sizes,\n",
    "        mean_train_scores,\n",
    "        std_train_scores,\n",
    "        f\"Train ({train_score})\",\n",
    "        ax\n",
    "    )\n",
    "\n",
    "    # test curve\n",
    "    plot_curves(\n",
    "        train_sizes,\n",
    "        mean_test_scores,\n",
    "        std_test_scores,\n",
    "        f\"Test ({test_score})\",\n",
    "        ax\n",
    "    )\n",
    "\n",
    "    ax.set(xlabel=\"Training Set Size\", ylabel=\"R-square\", title=name)\n",
    "\n",
    "    ax.legend(loc=\"lower right\")\n",
    "\n",
    "    plt.show()"
   ]
  },
  {
   "cell_type": "code",
   "execution_count": null,
   "id": "c4875b1c-0621-45ee-80c8-cfc6dabadd30",
   "metadata": {},
   "outputs": [],
   "source": [
    "for name, alg in algorithms.items():\n",
    "    plot_learning_curves(name, alg)"
   ]
  },
  {
   "cell_type": "markdown",
   "id": "966b8558-1abc-4652-952f-0ab0be41b328",
   "metadata": {},
   "source": [
    "## 6. Model Training"
   ]
  },
  {
   "cell_type": "code",
   "execution_count": null,
   "id": "6c5f76b2-de31-46db-8aea-6ec5b8cf929e",
   "metadata": {},
   "outputs": [],
   "source": [
    "model = Pipeline(steps=[\n",
    "    (\"pre\", preprocessor),\n",
    "    (\"rf\", RandomForestRegressor(n_estimators=10))\n",
    "])"
   ]
  },
  {
   "cell_type": "code",
   "execution_count": null,
   "id": "97efdc17-17e0-484c-ab52-992466747205",
   "metadata": {},
   "outputs": [],
   "source": [
    "model.fit(X_data, y_data)"
   ]
  },
  {
   "cell_type": "markdown",
   "id": "09d4bb40-00e3-4ec1-81c4-02af474294ab",
   "metadata": {},
   "source": [
    "## 7. Model Evaluation"
   ]
  },
  {
   "cell_type": "code",
   "execution_count": null,
   "id": "4194b7d5-3c59-4f0e-a41c-7a2c731c7b22",
   "metadata": {},
   "outputs": [],
   "source": [
    "def evaluate_model(X, y):\n",
    "    y_pred = model.predict(X)\n",
    "    return r2_score(y, y_pred)"
   ]
  },
  {
   "cell_type": "code",
   "execution_count": null,
   "id": "ed1e8002-12fb-4928-a8e7-dfe6e7d54627",
   "metadata": {},
   "outputs": [],
   "source": [
    "print(f\"R2 score on Training data is = {evaluate_model(X_data, y_data)}\")"
   ]
  },
  {
   "cell_type": "code",
   "execution_count": null,
   "id": "b8090660-04b3-49a8-98c0-e1e14b16a2fe",
   "metadata": {},
   "outputs": [],
   "source": [
    "print(f\"R2 score on Test data is = {evaluate_model(X_test, y_test)}\")"
   ]
  },
  {
   "cell_type": "markdown",
   "id": "ed108385-eb1e-4f79-998b-5cf8d4212e54",
   "metadata": {},
   "source": [
    "## 8. Model Persistance"
   ]
  },
  {
   "cell_type": "code",
   "execution_count": null,
   "id": "404e8812-43ec-47c2-aa79-2bcc30d803f4",
   "metadata": {},
   "outputs": [],
   "source": [
    "joblib.dump(model, \"model.joblib\")"
   ]
  },
  {
   "cell_type": "code",
   "execution_count": null,
   "id": "67ff1e34-4886-4941-b097-a1a1b12429e2",
   "metadata": {},
   "outputs": [],
   "source": [
    "saved_model = joblib.load(\"model.joblib\")\n",
    "saved_model"
   ]
  },
  {
   "cell_type": "code",
   "execution_count": null,
   "id": "e7b5670a-67dd-4bc6-8fb9-4175d0994ab4",
   "metadata": {},
   "outputs": [],
   "source": [
    "y_pred = saved_model.predict(X_test)\n",
    "\n",
    "r2_score(y_test, y_pred)"
   ]
  },
  {
   "cell_type": "code",
   "execution_count": null,
   "id": "817ab727-ca27-44b8-a4ca-84cdb9f55523",
   "metadata": {},
   "outputs": [],
   "source": []
  }
 ],
 "metadata": {
  "kernelspec": {
   "display_name": "Python 3 (ipykernel)",
   "language": "python",
   "name": "python3"
  },
  "language_info": {
   "codemirror_mode": {
    "name": "ipython",
    "version": 3
   },
   "file_extension": ".py",
   "mimetype": "text/x-python",
   "name": "python",
   "nbconvert_exporter": "python",
   "pygments_lexer": "ipython3",
   "version": "3.11.4"
  }
 },
 "nbformat": 4,
 "nbformat_minor": 5
}
